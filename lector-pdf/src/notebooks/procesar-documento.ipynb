{
 "cells": [
  {
   "cell_type": "markdown",
   "metadata": {},
   "source": [
    "Lectura del documento desde Google Document AI"
   ]
  },
  {
   "cell_type": "code",
   "execution_count": 1,
   "metadata": {
    "collapsed": false
   },
   "outputs": [
    {
     "name": "stdout",
     "output_type": "stream",
     "text": [
      "**************\n"
     ]
    }
   ],
   "source": [
    "import utils_document_ai as gdi\n",
    "import os\n",
    "\n",
    "os.environ[\"GOOGLE_APPLICATION_CREDENTIALS\"] = \"/home/eyacelga/repositorio-codigo/ai-proyecto-local/lector-pdf/src/notebooks/data/documental-isspol-664f93e7c2fb.json\"\n",
    "file_path = '/home/eyacelga/repositorio-codigo/ai-proyecto-local/lector-pdf/src/notebooks/data/ISSPOL-TIC-2024-0033-I-ME.pdf'\n",
    "#/home/eyacelga/repositorio-codigo/ai-proyecto-local/lector-pdf/src/data/documental-isspol-664f93e7c2fb.json\n",
    "gdi.decirHola()\n",
    "documento_json = gdi.procesar_documento(file_path)\n",
    "\n"
   ]
  },
  {
   "cell_type": "code",
   "execution_count": 120,
   "metadata": {},
   "outputs": [],
   "source": [
    "def guardar_entidades_en_json(document):\n",
    "    entidades_json = {}\n",
    "\n",
    "    # Itera sobre las entidades detectadas en el documento\n",
    "    for entidad in document.entities:\n",
    "        # Obtén el tipo de entidad y su valor asociado\n",
    "        tipo_entidad = entidad.type_\n",
    "        valor_entidad = entidad.mention_text\n",
    "\n",
    "        # Agrega la entidad al objeto JSON\n",
    "        if tipo_entidad not in entidades_json:\n",
    "            entidades_json[tipo_entidad] = []\n",
    "        entidades_json[tipo_entidad].append(valor_entidad)\n",
    "\n",
    "    # Devuelve el objeto JSON con las entidades detectadas\n",
    "    return entidades_json"
   ]
  },
  {
   "cell_type": "code",
   "execution_count": 123,
   "metadata": {},
   "outputs": [],
   "source": [
    "def obtener_texto_extraido(document):\n",
    "    texto_extraido = document.text\n",
    "\n",
    "    # Devuelve el texto extraído\n",
    "    return texto_extraido"
   ]
  },
  {
   "cell_type": "code",
   "execution_count": 124,
   "metadata": {},
   "outputs": [],
   "source": [
    "entidades_detectadas_json = guardar_entidades_en_json(documento_json)\n",
    "texto_extraido = obtener_texto_extraido(documento_json)"
   ]
  },
  {
   "cell_type": "code",
   "execution_count": 126,
   "metadata": {},
   "outputs": [
    {
     "name": "stdout",
     "output_type": "stream",
     "text": [
      "{'PERSONA-DIRIGE': ['Sr. Ing. Carlos Eduardo Sigcha Semanate\\nAnalista Desarrollador de Software\\nSr. Ing. Andres Fernando Campoverde Rengel\\nAnalista de Ingeniería de Software del Isspol\\nSr. Ing. Carlos Shonatan Nuñez Galvez\\nEspecialista de Ingeniería de Software del Isspol\\nSr. Ing. Edwin Marcelo Loachamin Villegas\\nAnalista de Ingeniería de Software del Isspol\\nSr. Ing. Edwin Santiago Yacelga Maldonado\\nAnalista de Ingeniería de Software del Isspol\\nSrta. Mgs. Ing. Jenny Beatriz Gomez Montesdeoca\\nJefe de Gestión de Tecnologías de la Información del ISSPOL\\nSr. Ing. Ing. José Stalin Murillo Armijos\\nEspecialista en Infraestructura\\nSrta. Ing. Monica Viviana Teran Tabango\\nAnalista de Ingeniería de Software del Isspol\\nSr. Ing. José Javier Parada Ruiz\\nAnalista de Ingeniería de Software del ISSPOL\\nSr. Ing. Milton Rodrigo Tobar Vitoris\\nAnalista Desarrollador de Software\\nSr. Ing. Raul Alejandro Rodriguez Parra\\nAnalista de Base de Datos\\nSr. Sgos. Bolivar Fabian Pucachaqui Bazan\\nAnalista de Soporte Técnico del Isspol'], 'Oficio': ['Nro. ISSPOL-TIC-2024-0033-I-ME', 'Nro. ISSPOL-TIC-2024-0033-I-ME', 'Nro. ISSPOL-TIC-2024-0033-I-ME'], 'Asunto': ['REMITA LA DISPOSICIÓN DE ASISTENCIA A TODO EL PERSONAL\\nA LA CAPACITACIÓN ANUAL OBLIGATORIA EN MATERIA DE\\nPREVENCIÓN LAVADO DE ACTIVOS A SER IMPARTIDA POR LA\\nUAFE'], 'Contenido': ['saludo,\\nCon un atento y cordial\\nen atención a el Memorando Nro.\\nISSPOL-DG-2024-3130-I-ME, de fecha 15 de mayo de 2024, firmado electrónicamente\\npor el señor Crnl. Diego Renato Gonzalez Peñaherrera, DIRECTOR GENERAL DEL\\nISSPOL, mismo que indica:\\n\"... adjunto el Oficio Nro. ISSPOL-GC-2024-0065-0, de fecha 15 de mayo de 2024,\\nsuscrito por Econ. Giovanna Tatiana Ponce Santamaria, OFICIAL DE\\nCUMPLIMIENTO, mediante el cual refiere:\\n\"(...) En cumplimiento de la Resolución Nro. SB-2024-0316 emitido por la\\nSuperintendencia de Bancos referente a la \"Norma de Control para la Administración\\ndel Riesgo de Lavado de Activos y Financiamiento de Delitos como el Terrorismo\\n(ARLAFDT)\", mismo que al artículo 48 dispone “[...] Las entidades controladas deben\\ndiseñar, programar y coordinar planes de capacitación sobre el SISTEMA DE\\nADMINISTRACIÓN DE RIESGOS dirigidos a todas las áreas y funcionarios de la\\nentidad.\\nLos programas de capacitación deben cumplir, como mínimo las siguientes condiciones:\\n1. Periodicidad anual;\\n2. Ser impartidos durante el proceso de inducción a los nuevos funcionarios;\\n3. Ser constantemente revisados y actualizados,\\n4. Contar con mecanismos de evaluación de los resultados obtenidos que reflejen el\\nnivel de eficiencia de dichos programas y el grado de los objetivos propuestos; y,\\n5. Señalar el alcance de estos programas, los medios que se empleará para\\nejecutarlos y los procedimiento que se utilizará para evaluarlos.[…]”.\\nLa Gestión de Cumplimiento ha coordinado con la Unidad de Análisis Financiero y\\nEconómico la capacitación anual para todos los empleados policiales y civiles, misma\\nque será impartida los días 20 y 21 de mayo de 2024, en el horario de 09h00 a 12h00, en\\nlas instalaciones del ISSPOL.\\nPor lo antes expuesto solicito de la manera más cordial que en base a su autoridad se\\ndisponga a todos los Directores y Jefes de Gestión la asistencia con carácter de\\nobligatorio, así como al personal a su cargo, a la capacitación antes mencionada, en la\\nque se abordarán temas de gran importancia para el eficaz desarrollo y aplicación del\\nSistema de Administración de Riesgos de Lavado de Activos/FT y FPADM como: debida\\ndiligencia, Personas Expuestas Políticamente, Señales de Alerta y Tipologías de Lavado\\nde activos, para lo cual se ha distribuido en dos grupos, procurando que las gestiones no', 'En virtud de lo expuesto, dentro del ámbito de sus competencias, sírvase avocar\\nconocimiento y disponga la asistencia del personal policial conforme lo detallado en el\\ndocumento adjunto\".\\nCon el antecedente indicado, sírvase indicar comunicar al personal bajo su mando\\nla asistencia del personal policial a la \"CAPACITACIÓN ANUAL OBLIGATORIA EN\\nMATERIA DE PREVENCIÓN LAVADO DE ACTIVOS A SER IMPARTIDA POR LA\\nUAFE\".'], 'persona-firma': ['Mgs. Ing. Jenny Beatriz Gomez Montesdeoca']}\n"
     ]
    }
   ],
   "source": [
    "print(entidades_detectadas_json)"
   ]
  },
  {
   "cell_type": "code",
   "execution_count": 127,
   "metadata": {},
   "outputs": [
    {
     "name": "stdout",
     "output_type": "stream",
     "text": [
      "INSTITUTO DE SEGURIDAD SOCIAL\n",
      "DE LA POLICÍA NACIONAL\n",
      "Memorando Nro. ISSPOL-TIC-2024-0033-I-ME\n",
      "Quito, 16 de mayo de 2024\n",
      "PARA:\n",
      "Sr. Ing. Carlos Eduardo Sigcha Semanate\n",
      "Analista Desarrollador de Software\n",
      "Sr. Ing. Andres Fernando Campoverde Rengel\n",
      "Analista de Ingeniería de Software del Isspol\n",
      "Sr. Ing. Carlos Shonatan Nuñez Galvez\n",
      "Especialista de Ingeniería de Software del Isspol\n",
      "Sr. Ing. Edwin Marcelo Loachamin Villegas\n",
      "Analista de Ingeniería de Software del Isspol\n",
      "Sr. Ing. Edwin Santiago Yacelga Maldonado\n",
      "Analista de Ingeniería de Software del Isspol\n",
      "Srta. Mgs. Ing. Jenny Beatriz Gomez Montesdeoca\n",
      "Jefe de Gestión de Tecnologías de la Información del ISSPOL\n",
      "Sr. Ing. Ing. José Stalin Murillo Armijos\n",
      "Especialista en Infraestructura\n",
      "Srta. Ing. Monica Viviana Teran Tabango\n",
      "Analista de Ingeniería de Software del Isspol\n",
      "Sr. Ing. José Javier Parada Ruiz\n",
      "Analista de Ingeniería de Software del ISSPOL\n",
      "Sr. Ing. Milton Rodrigo Tobar Vitoris\n",
      "Analista Desarrollador de Software\n",
      "Sr. Ing. Raul Alejandro Rodriguez Parra\n",
      "Analista de Base de Datos\n",
      "Sr. Sgos. Bolivar Fabian Pucachaqui Bazan\n",
      "Analista de Soporte Técnico del Isspol\n",
      "ASUNTO: REMITA LA DISPOSICIÓN DE ASISTENCIA A TODO EL PERSONAL\n",
      "A LA CAPACITACIÓN ANUAL OBLIGATORIA EN MATERIA DE\n",
      "PREVENCIÓN LAVADO DE ACTIVOS A SER IMPARTIDA POR LA\n",
      "UAFE\n",
      "“Desde el principio hasta el fin, siempre hay alguien que te protege\"\n",
      "Teléfonos: 023949250 / 023949251\n",
      "E-mail: contacto@isspol.org.ec\n",
      "Dirección: Av. de los Shyris N39-67 y Telégrafo, ISSPOL Matriz. Quito - Ecuador\n",
      "http://www.isspol.org.ec\n",
      "SOMOS EL NUEVO ISSPOL\n",
      "1/3\n",
      "* Documento firmado electrónicamente por Quipux\n",
      "INSTITUTO DE SEGURIDAD SOCIAL\n",
      "DE LA POLICÍA NACIONAL\n",
      "Memorando Nro. ISSPOL-TIC-2024-0033-I-ME\n",
      "Quito, 16 de mayo de 2024\n",
      "De mis consideraciones:\n",
      "saludo,\n",
      "Con un atento y cordial\n",
      "en atención a el Memorando Nro.\n",
      "ISSPOL-DG-2024-3130-I-ME, de fecha 15 de mayo de 2024, firmado electrónicamente\n",
      "por el señor Crnl. Diego Renato Gonzalez Peñaherrera, DIRECTOR GENERAL DEL\n",
      "ISSPOL, mismo que indica:\n",
      "\"... adjunto el Oficio Nro. ISSPOL-GC-2024-0065-0, de fecha 15 de mayo de 2024,\n",
      "suscrito por Econ. Giovanna Tatiana Ponce Santamaria, OFICIAL DE\n",
      "CUMPLIMIENTO, mediante el cual refiere:\n",
      "\"(...) En cumplimiento de la Resolución Nro. SB-2024-0316 emitido por la\n",
      "Superintendencia de Bancos referente a la \"Norma de Control para la Administración\n",
      "del Riesgo de Lavado de Activos y Financiamiento de Delitos como el Terrorismo\n",
      "(ARLAFDT)\", mismo que al artículo 48 dispone “[...] Las entidades controladas deben\n",
      "diseñar, programar y coordinar planes de capacitación sobre el SISTEMA DE\n",
      "ADMINISTRACIÓN DE RIESGOS dirigidos a todas las áreas y funcionarios de la\n",
      "entidad.\n",
      "Los programas de capacitación deben cumplir, como mínimo las siguientes condiciones:\n",
      "1. Periodicidad anual;\n",
      "2. Ser impartidos durante el proceso de inducción a los nuevos funcionarios;\n",
      "3. Ser constantemente revisados y actualizados,\n",
      "4. Contar con mecanismos de evaluación de los resultados obtenidos que reflejen el\n",
      "nivel de eficiencia de dichos programas y el grado de los objetivos propuestos; y,\n",
      "5. Señalar el alcance de estos programas, los medios que se empleará para\n",
      "ejecutarlos y los procedimiento que se utilizará para evaluarlos.[…]”.\n",
      "La Gestión de Cumplimiento ha coordinado con la Unidad de Análisis Financiero y\n",
      "Económico la capacitación anual para todos los empleados policiales y civiles, misma\n",
      "que será impartida los días 20 y 21 de mayo de 2024, en el horario de 09h00 a 12h00, en\n",
      "las instalaciones del ISSPOL.\n",
      "Por lo antes expuesto solicito de la manera más cordial que en base a su autoridad se\n",
      "disponga a todos los Directores y Jefes de Gestión la asistencia con carácter de\n",
      "obligatorio, así como al personal a su cargo, a la capacitación antes mencionada, en la\n",
      "que se abordarán temas de gran importancia para el eficaz desarrollo y aplicación del\n",
      "Sistema de Administración de Riesgos de Lavado de Activos/FT y FPADM como: debida\n",
      "diligencia, Personas Expuestas Políticamente, Señales de Alerta y Tipologías de Lavado\n",
      "de activos, para lo cual se ha distribuido en dos grupos, procurando que las gestiones no\n",
      "“Desde el principio hasta el fin, siempre hay alguien que te protege\"\n",
      "Teléfonos: 023949250 / 023949251\n",
      "E-mail: contacto@isspol.org.ec\n",
      "Dirección: Av. de los Shyris N39-67 y Telégrafo, ISSPOL Matriz. Quito - Ecuador\n",
      "http://www.isspol.org.ec\n",
      "SOMOS EL NUEVO ISSPOL\n",
      "2/3\n",
      "* Documento firmado electrónicamente por Quipux\n",
      "INSTITUTO DE SEGURIDAD SOCIAL\n",
      "DE LA POLICÍA NACIONAL\n",
      "Memorando Nro. ISSPOL-TIC-2024-0033-I-ME\n",
      "Quito, 16 de mayo de 2024\n",
      "se queden sin personal. (...)\".\n",
      "En virtud de lo expuesto, dentro del ámbito de sus competencias, sírvase avocar\n",
      "conocimiento y disponga la asistencia del personal policial conforme lo detallado en el\n",
      "documento adjunto\".\n",
      "Con el antecedente indicado, sírvase indicar comunicar al personal bajo su mando\n",
      "la asistencia del personal policial a la \"CAPACITACIÓN ANUAL OBLIGATORIA EN\n",
      "MATERIA DE PREVENCIÓN LAVADO DE ACTIVOS A SER IMPARTIDA POR LA\n",
      "UAFE\".\n",
      "ESTRICTO CUMPLIMIENTO\n",
      "Con sentimientos de estima.\n",
      "Atentamente,\n",
      "Documento firmado electrónicamente\n",
      "Mgs. Ing. Jenny Beatriz Gomez Montesdeoca\n",
      "JEFE DE GESTIÓN DE TECNOLOGÍAS DE LA INFORMACIÓN DEL ISSPOL\n",
      "Referencias:\n",
      "- ISSPOL-DAD-2024-1966-I-ME\n",
      "Anexos:\n",
      "- listado_capacitacion_uafe_isspol_uafe_(1).zip\n",
      "Firmado electrónicamente por:\n",
      "JENNY BEATRIZ GOMEZ\n",
      "¿MONTESDEOCA\n",
      "“Desde el principio hasta el fin, siempre hay alguien que te protege\"\n",
      "Teléfonos: 023949250 / 023949251\n",
      "E-mail: contacto@isspol.org.ec\n",
      "Dirección: Av. de los Shyris N39-67 y Telégrafo, ISSPOL Matriz. Quito - Ecuador\n",
      "http://www.isspol.org.ec\n",
      "SOMOS EL NUEVO ISSPOL 3/3\n",
      "* Documento firmado electrónicamente por Quipux\n",
      "\n"
     ]
    }
   ],
   "source": [
    "print(texto_extraido)"
   ]
  },
  {
   "cell_type": "code",
   "execution_count": 128,
   "metadata": {},
   "outputs": [
    {
     "name": "stdout",
     "output_type": "stream",
     "text": [
      "Valor asociado a la clave 'texto_extraido': Este es un texto extraído de un documento.\n"
     ]
    }
   ],
   "source": [
    "def obtener_valor_por_clave(json_data, key):\n",
    "    \"\"\"\n",
    "    Función para obtener el valor de una clave en un objeto JSON.\n",
    "\n",
    "    Args:\n",
    "    - json_data (dict): Objeto JSON.\n",
    "    - key (str): Clave cuyo valor se desea obtener.\n",
    "\n",
    "    Returns:\n",
    "    - El valor asociado a la clave especificada en el JSON, o None si la clave no existe.\n",
    "    \"\"\"\n",
    "    # Verificar si la clave está presente en el objeto JSON\n",
    "    if key in json_data:\n",
    "        # Devolver el valor asociado a la clave\n",
    "        return json_data[key]\n",
    "    else:\n",
    "        # Si la clave no existe, devolver None\n",
    "        return None\n",
    "\n",
    "# Ejemplo de uso\n",
    "texto_json = {\"texto_extraido\": \"Este es un texto extraído de un documento.\"}\n",
    "clave = \"texto_extraido\"\n",
    "valor = obtener_valor_por_clave(texto_json, clave)\n",
    "print(\"Valor asociado a la clave '{}': {}\".format(clave, valor))\n"
   ]
  },
  {
   "cell_type": "code",
   "execution_count": 135,
   "metadata": {},
   "outputs": [],
   "source": [
    "def obtener_texto_extraido(resultado_procesamiento):\n",
    "    # Obtener el texto extraído del documento procesado\n",
    "    texto_extraido = resultado_procesamiento.text\n",
    "\n",
    "    # Remplazar \"\\n\" por \",\"\n",
    "    texto_extraido = texto_extraido.replace(\"\\n\", \",\")\n",
    "\n",
    "    # Devolver el texto extraído modificado\n",
    "    return texto_extraido"
   ]
  },
  {
   "cell_type": "code",
   "execution_count": 140,
   "metadata": {},
   "outputs": [
    {
     "name": "stdout",
     "output_type": "stream",
     "text": [
      "Sr. Ing. Carlos Eduardo Sigcha Semanate\n",
      "Analista Desarrollador de Software\n",
      "Sr. Ing. Andres Fernando Campoverde Rengel\n",
      "Analista de Ingeniería de Software del Isspol\n",
      "Sr. Ing. Carlos Shonatan Nuñez Galvez\n",
      "Especialista de Ingeniería de Software del Isspol\n",
      "Sr. Ing. Edwin Marcelo Loachamin Villegas\n",
      "Analista de Ingeniería de Software del Isspol\n",
      "Sr. Ing. Edwin Santiago Yacelga Maldonado\n",
      "Analista de Ingeniería de Software del Isspol\n",
      "Srta. Mgs. Ing. Jenny Beatriz Gomez Montesdeoca\n",
      "Jefe de Gestión de Tecnologías de la Información del ISSPOL\n",
      "Sr. Ing. Ing. José Stalin Murillo Armijos\n",
      "Especialista en Infraestructura\n",
      "Srta. Ing. Monica Viviana Teran Tabango\n",
      "Analista de Ingeniería de Software del Isspol\n",
      "Sr. Ing. José Javier Parada Ruiz\n",
      "Analista de Ingeniería de Software del ISSPOL\n",
      "Sr. Ing. Milton Rodrigo Tobar Vitoris\n",
      "Analista Desarrollador de Software\n",
      "Sr. Ing. Raul Alejandro Rodriguez Parra\n",
      "Analista de Base de Datos\n",
      "Sr. Sgos. Bolivar Fabian Pucachaqui Bazan\n",
      "Analista de Soporte Técnico del Isspol\n"
     ]
    }
   ],
   "source": [
    "persona_dirige  = obtener_valor_por_clave(entidades_detectadas_json, 'PERSONA-DIRIGE')\n",
    "persona_dirige  = persona_dirige[0];\n",
    "print(persona_dirige)   \n",
    "\n"
   ]
  },
  {
   "cell_type": "code",
   "execution_count": 146,
   "metadata": {},
   "outputs": [],
   "source": [
    "def unir_en_una_linea(lista):\n",
    "    \"\"\"\n",
    "    Función para unir una lista de cadenas en una sola línea.\n",
    "\n",
    "    Args:\n",
    "    - lista (list): Lista de cadenas que se desean unir.\n",
    "\n",
    "    Returns:\n",
    "    - Una cadena que contiene todas las cadenas de la lista unidas en una sola línea.\n",
    "    \"\"\"\n",
    "    # Utilizar el método join() para unir las cadenas en una sola línea\n",
    "    texto_unido = '\\n'.join(lista)\n",
    "    return texto_unido"
   ]
  },
  {
   "cell_type": "code",
   "execution_count": 147,
   "metadata": {},
   "outputs": [
    {
     "name": "stdout",
     "output_type": "stream",
     "text": [
      "saludo,\n",
      "Con un atento y cordial\n",
      "en atención a el Memorando Nro.\n",
      "ISSPOL-DG-2024-3130-I-ME, de fecha 15 de mayo de 2024, firmado electrónicamente\n",
      "por el señor Crnl. Diego Renato Gonzalez Peñaherrera, DIRECTOR GENERAL DEL\n",
      "ISSPOL, mismo que indica:\n",
      "\"... adjunto el Oficio Nro. ISSPOL-GC-2024-0065-0, de fecha 15 de mayo de 2024,\n",
      "suscrito por Econ. Giovanna Tatiana Ponce Santamaria, OFICIAL DE\n",
      "CUMPLIMIENTO, mediante el cual refiere:\n",
      "\"(...) En cumplimiento de la Resolución Nro. SB-2024-0316 emitido por la\n",
      "Superintendencia de Bancos referente a la \"Norma de Control para la Administración\n",
      "del Riesgo de Lavado de Activos y Financiamiento de Delitos como el Terrorismo\n",
      "(ARLAFDT)\", mismo que al artículo 48 dispone “[...] Las entidades controladas deben\n",
      "diseñar, programar y coordinar planes de capacitación sobre el SISTEMA DE\n",
      "ADMINISTRACIÓN DE RIESGOS dirigidos a todas las áreas y funcionarios de la\n",
      "entidad.\n",
      "Los programas de capacitación deben cumplir, como mínimo las siguientes condiciones:\n",
      "1. Periodicidad anual;\n",
      "2. Ser impartidos durante el proceso de inducción a los nuevos funcionarios;\n",
      "3. Ser constantemente revisados y actualizados,\n",
      "4. Contar con mecanismos de evaluación de los resultados obtenidos que reflejen el\n",
      "nivel de eficiencia de dichos programas y el grado de los objetivos propuestos; y,\n",
      "5. Señalar el alcance de estos programas, los medios que se empleará para\n",
      "ejecutarlos y los procedimiento que se utilizará para evaluarlos.[…]”.\n",
      "La Gestión de Cumplimiento ha coordinado con la Unidad de Análisis Financiero y\n",
      "Económico la capacitación anual para todos los empleados policiales y civiles, misma\n",
      "que será impartida los días 20 y 21 de mayo de 2024, en el horario de 09h00 a 12h00, en\n",
      "las instalaciones del ISSPOL.\n",
      "Por lo antes expuesto solicito de la manera más cordial que en base a su autoridad se\n",
      "disponga a todos los Directores y Jefes de Gestión la asistencia con carácter de\n",
      "obligatorio, así como al personal a su cargo, a la capacitación antes mencionada, en la\n",
      "que se abordarán temas de gran importancia para el eficaz desarrollo y aplicación del\n",
      "Sistema de Administración de Riesgos de Lavado de Activos/FT y FPADM como: debida\n",
      "diligencia, Personas Expuestas Políticamente, Señales de Alerta y Tipologías de Lavado\n",
      "de activos, para lo cual se ha distribuido en dos grupos, procurando que las gestiones noEn virtud de lo expuesto, dentro del ámbito de sus competencias, sírvase avocar\n",
      "conocimiento y disponga la asistencia del personal policial conforme lo detallado en el\n",
      "documento adjunto\".\n",
      "Con el antecedente indicado, sírvase indicar comunicar al personal bajo su mando\n",
      "la asistencia del personal policial a la \"CAPACITACIÓN ANUAL OBLIGATORIA EN\n",
      "MATERIA DE PREVENCIÓN LAVADO DE ACTIVOS A SER IMPARTIDA POR LA\n",
      "UAFE\".\n"
     ]
    }
   ],
   "source": [
    "contenido_documento  = obtener_valor_por_clave(entidades_detectadas_json, 'Contenido')\n",
    "contenido_documento = unir_en_una_linea(contenido_documento)\n",
    "print(contenido_documento)"
   ]
  },
  {
   "cell_type": "code",
   "execution_count": 143,
   "metadata": {},
   "outputs": [],
   "source": [
    "def eliminar_saltos_de_linea(texto):\n",
    "    \"\"\"\n",
    "    Función para eliminar los saltos de línea de un texto.\n",
    "\n",
    "    Args:\n",
    "    - texto (str): Texto del cual se desean eliminar los saltos de línea.\n",
    "\n",
    "    Returns:\n",
    "    - El texto sin saltos de línea.\n",
    "    \"\"\"\n",
    "    # Utilizar el método replace() para reemplazar los saltos de línea por espacios en blanco\n",
    "    texto_sin_saltos_de_linea = texto.replace('\\n', ' ')\n",
    "    return texto_sin_saltos_de_linea"
   ]
  },
  {
   "cell_type": "code",
   "execution_count": 144,
   "metadata": {},
   "outputs": [
    {
     "name": "stdout",
     "output_type": "stream",
     "text": [
      "saludo, Con un atento y cordial en atención a el Memorando Nro. ISSPOL-DG-2024-3130-I-ME, de fecha 15 de mayo de 2024, firmado electrónicamente por el señor Crnl. Diego Renato Gonzalez Peñaherrera, DIRECTOR GENERAL DEL ISSPOL, mismo que indica: \"... adjunto el Oficio Nro. ISSPOL-GC-2024-0065-0, de fecha 15 de mayo de 2024, suscrito por Econ. Giovanna Tatiana Ponce Santamaria, OFICIAL DE CUMPLIMIENTO, mediante el cual refiere: \"(...) En cumplimiento de la Resolución Nro. SB-2024-0316 emitido por la Superintendencia de Bancos referente a la \"Norma de Control para la Administración del Riesgo de Lavado de Activos y Financiamiento de Delitos como el Terrorismo (ARLAFDT)\", mismo que al artículo 48 dispone “[...] Las entidades controladas deben diseñar, programar y coordinar planes de capacitación sobre el SISTEMA DE ADMINISTRACIÓN DE RIESGOS dirigidos a todas las áreas y funcionarios de la entidad. Los programas de capacitación deben cumplir, como mínimo las siguientes condiciones: 1. Periodicidad anual; 2. Ser impartidos durante el proceso de inducción a los nuevos funcionarios; 3. Ser constantemente revisados y actualizados, 4. Contar con mecanismos de evaluación de los resultados obtenidos que reflejen el nivel de eficiencia de dichos programas y el grado de los objetivos propuestos; y, 5. Señalar el alcance de estos programas, los medios que se empleará para ejecutarlos y los procedimiento que se utilizará para evaluarlos.[…]”. La Gestión de Cumplimiento ha coordinado con la Unidad de Análisis Financiero y Económico la capacitación anual para todos los empleados policiales y civiles, misma que será impartida los días 20 y 21 de mayo de 2024, en el horario de 09h00 a 12h00, en las instalaciones del ISSPOL. Por lo antes expuesto solicito de la manera más cordial que en base a su autoridad se disponga a todos los Directores y Jefes de Gestión la asistencia con carácter de obligatorio, así como al personal a su cargo, a la capacitación antes mencionada, en la que se abordarán temas de gran importancia para el eficaz desarrollo y aplicación del Sistema de Administración de Riesgos de Lavado de Activos/FT y FPADM como: debida diligencia, Personas Expuestas Políticamente, Señales de Alerta y Tipologías de Lavado de activos, para lo cual se ha distribuido en dos grupos, procurando que las gestiones no\n"
     ]
    }
   ],
   "source": [
    "contenido_documento = eliminar_saltos_de_linea(contenido_documento)\n",
    "print(contenido_documento)"
   ]
  }
 ],
 "metadata": {
  "kernelspec": {
   "display_name": "curso-regresion",
   "language": "python",
   "name": "python3"
  },
  "language_info": {
   "codemirror_mode": {
    "name": "ipython",
    "version": 3
   },
   "file_extension": ".py",
   "mimetype": "text/x-python",
   "name": "python",
   "nbconvert_exporter": "python",
   "pygments_lexer": "ipython3",
   "version": "3.11.5"
  }
 },
 "nbformat": 4,
 "nbformat_minor": 2
}
